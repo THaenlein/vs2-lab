{
 "cells": [
  {
   "cell_type": "markdown",
   "metadata": {},
   "source": [
    "Importieren unserer python Datei und threading um den Server in einem separaten Thread auszuführen."
   ]
  },
  {
   "cell_type": "code",
   "execution_count": 23,
   "metadata": {},
   "outputs": [],
   "source": [
    "import info_clientserver, threading"
   ]
  },
  {
   "cell_type": "markdown",
   "metadata": {},
   "source": [
    "___\n",
    "Server wird in eigenem Thread gestartet und wartet auf Anfrage vom Client."
   ]
  },
  {
   "cell_type": "code",
   "execution_count": 24,
   "metadata": {},
   "outputs": [
    {
     "name": "stdout",
     "output_type": "stream",
     "text": [
      "server started\n"
     ]
    }
   ],
   "source": [
    "server = info_clientserver.infoServer()\n",
    "serverThread = threading.Thread(target=server.serve)\n",
    "serverThread.start()"
   ]
  },
  {
   "cell_type": "markdown",
   "metadata": {},
   "source": [
    "___\n",
    "Client wird gestartet."
   ]
  },
  {
   "cell_type": "code",
   "execution_count": 25,
   "metadata": {},
   "outputs": [
    {
     "name": "stdout",
     "output_type": "stream",
     "text": [
      "client started\n"
     ]
    }
   ],
   "source": [
    "client = info_clientserver.clientInterface()"
   ]
  },
  {
   "cell_type": "markdown",
   "metadata": {},
   "source": [
    "___\n",
    "`get` Anfrage vom Client an den Server, der die zugehörige Nummer zu dem Namen *Alexa* anhängt und zurück gibt. Das erhaltene Resultat wird ausgegeben."
   ]
  },
  {
   "cell_type": "code",
   "execution_count": 26,
   "metadata": {},
   "outputs": [
    {
     "name": "stdout",
     "output_type": "stream",
     "text": [
      "Alexa: 29042020\n"
     ]
    }
   ],
   "source": [
    "result = client.get(\"Alexa\")\n",
    "print(result)"
   ]
  },
  {
   "cell_type": "markdown",
   "metadata": {},
   "source": [
    "___\n",
    "Zunächst werden die Namen sämtlicher Eintrage angefragt, die dannach einzeln per `get` Anfragen die Nummern ermitteln und schließlich diese Zusammentragen und als gesammelte Ausgabe wiedergeben."
   ]
  },
  {
   "cell_type": "code",
   "execution_count": 27,
   "metadata": {},
   "outputs": [
    {
     "name": "stdout",
     "output_type": "stream",
     "text": [
      "['Pascal: 018054646', 'Fabian: 01571234', 'Konstantin: 01751234', 'Tim: 49294', 'Alexa: 29042020']\n"
     ]
    }
   ],
   "source": [
    "result = client.getAll()\n",
    "print(result)"
   ]
  },
  {
   "cell_type": "markdown",
   "metadata": {},
   "source": [
    "___\n",
    "Anhalten des Clients und Servers."
   ]
  },
  {
   "cell_type": "code",
   "execution_count": 28,
   "metadata": {},
   "outputs": [
    {
     "name": "stdout",
     "output_type": "stream",
     "text": [
      "setting stop\n",
      "isStoppped\n"
     ]
    }
   ],
   "source": [
    "client.close()\n",
    "server.stop()"
   ]
  },
  {
   "cell_type": "markdown",
   "metadata": {},
   "source": [
    "___\n",
    "Es besteht die Möglichkeit selben Vorgang wiederholt auszuführen mit gleichem Ergebnis bzw. abhängig von Client Anfragen gewünschten Ergebnisse."
   ]
  }
 ],
 "metadata": {
  "kernelspec": {
   "display_name": "Python 3",
   "language": "python",
   "name": "python3"
  },
  "language_info": {
   "codemirror_mode": {
    "name": "ipython",
    "version": 3
   },
   "file_extension": ".py",
   "mimetype": "text/x-python",
   "name": "python",
   "nbconvert_exporter": "python",
   "pygments_lexer": "ipython3",
   "version": "3.6.9"
  }
 },
 "nbformat": 4,
 "nbformat_minor": 4
}
