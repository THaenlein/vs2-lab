{
 "cells": [
  {
   "cell_type": "markdown",
   "metadata": {},
   "source": [
    "Importieren unserer python Datei und threading um den Server in einem separaten Thread auszuführen."
   ]
  },
  {
   "cell_type": "code",
   "execution_count": 1,
   "metadata": {},
   "outputs": [],
   "source": [
    "import info_clientserver, threading"
   ]
  },
  {
   "cell_type": "markdown",
   "metadata": {},
   "source": [
    "___\n",
    "Server wird in eigenem Thread gestartet und wartet auf Anfrage vom Client."
   ]
  },
  {
   "cell_type": "code",
   "execution_count": 2,
   "metadata": {},
   "outputs": [
    {
     "name": "stderr",
     "output_type": "stream",
     "text": [
      "2020-04-30 07:33:58,926 - vs2lab.lab1.info_clientserver.server - INFO - Server bound to socket <socket.socket fd=57, family=AddressFamily.AF_INET, type=2049, proto=0, laddr=('127.0.0.1', 50007)>\n"
     ]
    }
   ],
   "source": [
    "server = info_clientserver.InfoServer()\n",
    "serverThread = threading.Thread(target=server.serve)\n",
    "serverThread.start()"
   ]
  },
  {
   "cell_type": "markdown",
   "metadata": {},
   "source": [
    "___\n",
    "Client wird gestartet."
   ]
  },
  {
   "cell_type": "code",
   "execution_count": 3,
   "metadata": {},
   "outputs": [
    {
     "name": "stderr",
     "output_type": "stream",
     "text": [
      "2020-04-30 07:33:59,931 - vs2lab.lab1.info_clientserver.client - INFO - Client connected to socket <socket.socket fd=59, family=AddressFamily.AF_INET, type=SocketKind.SOCK_STREAM, proto=0, laddr=('127.0.0.1', 54010), raddr=('127.0.0.1', 50007)>\n"
     ]
    }
   ],
   "source": [
    "client = info_clientserver.ClientInterface()"
   ]
  },
  {
   "cell_type": "markdown",
   "metadata": {},
   "source": [
    "___\n",
    "`get` Anfrage vom Client an den Server, der die zugehörige Nummer zu dem Namen *Alexa* anhängt und zurück gibt. Das erhaltene Resultat wird ausgegeben."
   ]
  },
  {
   "cell_type": "code",
   "execution_count": 4,
   "metadata": {},
   "outputs": [
    {
     "name": "stderr",
     "output_type": "stream",
     "text": [
      "2020-04-30 07:34:00,846 - vs2lab.lab1.info_clientserver.client - INFO - Client sent request: GET Alexa      \n",
      "2020-04-30 07:34:00,846 - vs2lab.lab1.info_clientserver.server - INFO - Server received message: \"b'GET Alexa      '\" from: ('127.0.0.1', 54010)\n",
      "2020-04-30 07:34:00,848 - vs2lab.lab1.info_clientserver.server - INFO - The following entry was sent to the client: Entry Alexa 29042020                     \n",
      "2020-04-30 07:34:00,848 - vs2lab.lab1.info_clientserver.client - INFO - Client received reply: Entry Alexa 29042020                     \n"
     ]
    },
    {
     "name": "stdout",
     "output_type": "stream",
     "text": [
      "Alexa: 29042020\n"
     ]
    }
   ],
   "source": [
    "result = client.get(\"Alexa\")\n",
    "print(result)"
   ]
  },
  {
   "cell_type": "markdown",
   "metadata": {},
   "source": [
    "___\n",
    "Zunächst werden die Namen sämtlicher Eintrage angefragt, die dannach einzeln per `get` Anfragen die Nummern ermitteln und schließlich diese Zusammentragen und als gesammelte Ausgabe wiedergeben."
   ]
  },
  {
   "cell_type": "code",
   "execution_count": 5,
   "metadata": {},
   "outputs": [
    {
     "name": "stderr",
     "output_type": "stream",
     "text": [
      "2020-04-30 07:34:03,532 - vs2lab.lab1.info_clientserver.client - INFO - Client sent request: GETALL         \n",
      "2020-04-30 07:34:03,532 - vs2lab.lab1.info_clientserver.server - INFO - Server received message: \"b'GETALL         '\" from: ('127.0.0.1', 54010)\n",
      "2020-04-30 07:34:03,534 - vs2lab.lab1.info_clientserver.client - INFO - Reply will contain this amount of entries: 5\n",
      "2020-04-30 07:34:03,535 - vs2lab.lab1.info_clientserver.server - INFO - All entries were send to the client.\n",
      "2020-04-30 07:34:03,536 - vs2lab.lab1.info_clientserver.client - INFO - Client received reply: \"['Pascal: 018054646', 'Fabian: 01571234', 'Konstantin: 01751234', 'Tim: 49294', 'Alexa: 29042020']\n"
     ]
    },
    {
     "name": "stdout",
     "output_type": "stream",
     "text": [
      "['Pascal: 018054646', 'Fabian: 01571234', 'Konstantin: 01751234', 'Tim: 49294', 'Alexa: 29042020']\n"
     ]
    }
   ],
   "source": [
    "result = client.getAll()\n",
    "print(result)"
   ]
  },
  {
   "cell_type": "markdown",
   "metadata": {},
   "source": [
    "___\n",
    "Anhalten des Clients und Servers."
   ]
  },
  {
   "cell_type": "code",
   "execution_count": 6,
   "metadata": {},
   "outputs": [
    {
     "name": "stderr",
     "output_type": "stream",
     "text": [
      "2020-04-30 07:34:05,105 - vs2lab.lab1.info_clientserver.client - INFO - Client socket closed.\n"
     ]
    },
    {
     "name": "stdout",
     "output_type": "stream",
     "text": [
      "isStopppedsetting stop\n"
     ]
    },
    {
     "name": "stderr",
     "output_type": "stream",
     "text": [
      "2020-04-30 07:34:05,108 - vs2lab.lab1.info_clientserver.server - INFO - Server down.\n"
     ]
    },
    {
     "name": "stdout",
     "output_type": "stream",
     "text": [
      "\n"
     ]
    }
   ],
   "source": [
    "client.close()\n",
    "server.stop()"
   ]
  },
  {
   "cell_type": "markdown",
   "metadata": {},
   "source": [
    "___\n",
    "Es besteht die Möglichkeit selben Vorgang wiederholt auszuführen mit gleichem Ergebnis bzw. abhängig von Client Anfragen gewünschten Ergebnisse."
   ]
  },
  {
   "cell_type": "code",
   "execution_count": null,
   "metadata": {},
   "outputs": [],
   "source": []
  }
 ],
 "metadata": {
  "kernelspec": {
   "display_name": "Python 3",
   "language": "python",
   "name": "python3"
  },
  "language_info": {
   "codemirror_mode": {
    "name": "ipython",
    "version": 3
   },
   "file_extension": ".py",
   "mimetype": "text/x-python",
   "name": "python",
   "nbconvert_exporter": "python",
   "pygments_lexer": "ipython3",
   "version": "3.6.9"
  }
 },
 "nbformat": 4,
 "nbformat_minor": 4
}
